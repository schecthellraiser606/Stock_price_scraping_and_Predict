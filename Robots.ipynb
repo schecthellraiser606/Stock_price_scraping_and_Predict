{
 "cells": [
  {
   "cell_type": "code",
   "execution_count": 1,
   "metadata": {},
   "outputs": [
    {
     "name": "stdout",
     "output_type": "stream",
     "text": [
      "{\"*\": [Directive(Disallow: /)]}\n",
      "False\n"
     ]
    }
   ],
   "source": [
    "from reppy.robots import Robots\n",
    "\n",
    "robots = Robots.fetch('https://kabuoji3.com/robots.txt')\n",
    "print(robots.allowed('https://kabuoji3.com/', '*'))"
   ]
  }
 ],
 "metadata": {
  "interpreter": {
   "hash": "b296c36490f0cd12caaf76b85830d72a111ca037ca8555d4816ddc1bd976c3a5"
  },
  "kernelspec": {
   "display_name": "Python 3.8.8 64-bit ('base': conda)",
   "name": "python3"
  },
  "language_info": {
   "codemirror_mode": {
    "name": "ipython",
    "version": 3
   },
   "file_extension": ".py",
   "mimetype": "text/x-python",
   "name": "python",
   "nbconvert_exporter": "python",
   "pygments_lexer": "ipython3",
   "version": "3.8.8"
  },
  "orig_nbformat": 4
 },
 "nbformat": 4,
 "nbformat_minor": 2
}
